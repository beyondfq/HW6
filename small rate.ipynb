{
 "cells": [
  {
   "cell_type": "code",
   "execution_count": 58,
   "metadata": {},
   "outputs": [],
   "source": [
    "from surprise import Reader, Dataset, SVD, KNNBasic\n",
    "from surprise.model_selection import cross_validate\n",
    "from surprise.model_selection import KFold\n",
    "import pandas as pd\n",
    "import numpy as np"
   ]
  },
  {
   "cell_type": "code",
   "execution_count": 59,
   "metadata": {},
   "outputs": [
    {
     "data": {
      "text/html": [
       "<div>\n",
       "<style scoped>\n",
       "    .dataframe tbody tr th:only-of-type {\n",
       "        vertical-align: middle;\n",
       "    }\n",
       "\n",
       "    .dataframe tbody tr th {\n",
       "        vertical-align: top;\n",
       "    }\n",
       "\n",
       "    .dataframe thead th {\n",
       "        text-align: right;\n",
       "    }\n",
       "</style>\n",
       "<table border=\"1\" class=\"dataframe\">\n",
       "  <thead>\n",
       "    <tr style=\"text-align: right;\">\n",
       "      <th></th>\n",
       "      <th>userId</th>\n",
       "      <th>movieId</th>\n",
       "      <th>rating</th>\n",
       "      <th>timestamp</th>\n",
       "    </tr>\n",
       "  </thead>\n",
       "  <tbody>\n",
       "    <tr>\n",
       "      <th>0</th>\n",
       "      <td>1</td>\n",
       "      <td>31</td>\n",
       "      <td>2.5</td>\n",
       "      <td>1260759144</td>\n",
       "    </tr>\n",
       "    <tr>\n",
       "      <th>1</th>\n",
       "      <td>1</td>\n",
       "      <td>1029</td>\n",
       "      <td>3.0</td>\n",
       "      <td>1260759179</td>\n",
       "    </tr>\n",
       "    <tr>\n",
       "      <th>2</th>\n",
       "      <td>1</td>\n",
       "      <td>1061</td>\n",
       "      <td>3.0</td>\n",
       "      <td>1260759182</td>\n",
       "    </tr>\n",
       "    <tr>\n",
       "      <th>3</th>\n",
       "      <td>1</td>\n",
       "      <td>1129</td>\n",
       "      <td>2.0</td>\n",
       "      <td>1260759185</td>\n",
       "    </tr>\n",
       "    <tr>\n",
       "      <th>4</th>\n",
       "      <td>1</td>\n",
       "      <td>1172</td>\n",
       "      <td>4.0</td>\n",
       "      <td>1260759205</td>\n",
       "    </tr>\n",
       "  </tbody>\n",
       "</table>\n",
       "</div>"
      ],
      "text/plain": [
       "   userId  movieId  rating   timestamp\n",
       "0       1       31     2.5  1260759144\n",
       "1       1     1029     3.0  1260759179\n",
       "2       1     1061     3.0  1260759182\n",
       "3       1     1129     2.0  1260759185\n",
       "4       1     1172     4.0  1260759205"
      ]
     },
     "execution_count": 59,
     "metadata": {},
     "output_type": "execute_result"
    }
   ],
   "source": [
    "# Load data\n",
    "ratings = pd.read_csv('ratings_small.csv')\n",
    "ratings.head()"
   ]
  },
  {
   "cell_type": "code",
   "execution_count": 60,
   "metadata": {},
   "outputs": [],
   "source": [
    "reader = Reader()"
   ]
  },
  {
   "cell_type": "code",
   "execution_count": 61,
   "metadata": {},
   "outputs": [
    {
     "data": {
      "text/plain": [
       "<generator object KFold.split at 0x000002219DDA9CF0>"
      ]
     },
     "execution_count": 61,
     "metadata": {},
     "output_type": "execute_result"
    }
   ],
   "source": [
    "# Five folds cross validation\n",
    "data = Dataset.load_from_df(ratings[['userId', 'movieId', 'rating']], reader)\n",
    "kf = KFold(n_splits=5)\n",
    "kf.split(data)"
   ]
  },
  {
   "cell_type": "code",
   "execution_count": 62,
   "metadata": {},
   "outputs": [
    {
     "name": "stdout",
     "output_type": "stream",
     "text": [
      "Evaluating RMSE, MAE of algorithm SVD on 5 split(s).\n",
      "\n",
      "                  Fold 1  Fold 2  Fold 3  Fold 4  Fold 5  Mean    Std     \n",
      "RMSE (testset)    1.0070  1.0042  1.0109  1.0076  1.0101  1.0080  0.0024  \n",
      "MAE (testset)     0.7760  0.7782  0.7803  0.7780  0.7806  0.7786  0.0017  \n",
      "Fit time          5.43    5.47    5.50    5.91    5.73    5.61    0.18    \n",
      "Test time         0.25    0.21    0.15    0.17    0.14    0.18    0.04    \n"
     ]
    },
    {
     "data": {
      "text/plain": [
       "{'test_rmse': array([1.0070171 , 1.0042402 , 1.0108829 , 1.00759971, 1.01014728]),\n",
       " 'test_mae': array([0.77597947, 0.77823794, 0.78028856, 0.77797818, 0.78064789]),\n",
       " 'fit_time': (5.425912380218506,\n",
       "  5.4699952602386475,\n",
       "  5.498250246047974,\n",
       "  5.909796476364136,\n",
       "  5.7275049686431885),\n",
       " 'test_time': (0.24987006187438965,\n",
       "  0.21486377716064453,\n",
       "  0.14791059494018555,\n",
       "  0.16646671295166016,\n",
       "  0.13621807098388672)}"
      ]
     },
     "execution_count": 62,
     "metadata": {},
     "output_type": "execute_result"
    }
   ],
   "source": [
    "# PMF\n",
    "svd = SVD(biased=False)\n",
    "cross_validate(svd, data, measures=['RMSE', 'MAE'], cv=5, verbose=True)"
   ]
  },
  {
   "cell_type": "code",
   "execution_count": 6,
   "metadata": {},
   "outputs": [],
   "source": [
    "rmse = [1.0161, 1.0090, 1.0112, 1.0030, 0.9943, 1.0067]\n",
    "mae = [0.7845, 0.7794, 0.7798, 0.7749, 0.7678, 0.7773]"
   ]
  },
  {
   "cell_type": "code",
   "execution_count": 42,
   "metadata": {},
   "outputs": [
    {
     "data": {
      "text/plain": [
       "<function matplotlib.pyplot.show(*args, **kw)>"
      ]
     },
     "execution_count": 42,
     "metadata": {},
     "output_type": "execute_result"
    },
    {
     "data": {
      "image/png": "[encoded data removed]",
      "text/plain": [
       "<Figure size 432x288 with 1 Axes>"
      ]
     },
     "metadata": {
      "needs_background": "light"
     },
     "output_type": "display_data"
    }
   ],
   "source": [
    "import matplotlib.pyplot as plt\n",
    "\n",
    "x = range(6)\n",
    "label_lists = ['Fold 1', 'Fold 2', 'Fold 3', 'Fold 4', 'Fold 5','Mean',]\n",
    "plt.bar(x, rmse, width=0.5, tick_label=label_lists, label=\"RMSE\")\n",
    "plt.bar(x, mae, width=0.5, tick_label=label_lists, label=\"MAE\")\n",
    "\n",
    "plt.title('PMF')\n",
    "plt.grid(axis=\"y\")\n",
    "plt.ylim(0.5, 1.1) \n",
    "plt.legend()\n",
    "plt.show"
   ]
  },
  {
   "cell_type": "code",
   "execution_count": 56,
   "metadata": {},
   "outputs": [
    {
     "name": "stdout",
     "output_type": "stream",
     "text": [
      "Computing the msd similarity matrix...\n",
      "Done computing similarity matrix.\n",
      "Computing the msd similarity matrix...\n",
      "Done computing similarity matrix.\n",
      "Computing the msd similarity matrix...\n",
      "Done computing similarity matrix.\n",
      "Computing the msd similarity matrix...\n",
      "Done computing similarity matrix.\n",
      "Computing the msd similarity matrix...\n",
      "Done computing similarity matrix.\n",
      "Evaluating RMSE, MAE of algorithm KNNBasic on 5 split(s).\n",
      "\n",
      "                  Fold 1  Fold 2  Fold 3  Fold 4  Fold 5  Mean    Std     \n",
      "RMSE (testset)    0.9733  0.9668  0.9679  0.9651  0.9689  0.9684  0.0028  \n",
      "MAE (testset)     0.7475  0.7448  0.7430  0.7402  0.7450  0.7441  0.0024  \n",
      "Fit time          0.27    0.30    0.25    0.25    0.26    0.27    0.02    \n",
      "Test time         1.90    1.91    2.02    2.10    1.96    1.98    0.07    \n"
     ]
    },
    {
     "data": {
      "text/plain": [
       "{'test_rmse': array([0.97333896, 0.9667561 , 0.96786822, 0.96512174, 0.96886854]),\n",
       " 'test_mae': array([0.74747295, 0.74476664, 0.74302075, 0.74023747, 0.74504123]),\n",
       " 'fit_time': (0.2748234272003174,\n",
       "  0.29982566833496094,\n",
       "  0.2538444995880127,\n",
       "  0.2548389434814453,\n",
       "  0.25585126876831055),\n",
       " 'test_time': (1.8999369144439697,\n",
       "  1.91259765625,\n",
       "  2.015162944793701,\n",
       "  2.095089912414551,\n",
       "  1.9607880115509033)}"
      ]
     },
     "execution_count": 56,
     "metadata": {},
     "output_type": "execute_result"
    }
   ],
   "source": [
    "# User based Collaborative Filtering\n",
    "svd = KNNBasic(sim_options = {'user_based': True })\n",
    "cross_validate(svd, data, measures=['RMSE', 'MAE'], cv=5, verbose=True)"
   ]
  },
  {
   "cell_type": "code",
   "execution_count": 52,
   "metadata": {},
   "outputs": [],
   "source": [
    "rmse = [0.9716, 0.9779, 0.9667, 0.9634, 0.9563, 0.9672]\n",
    "mae = [0.7488, 0.7508, 0.7403, 0.7396, 0.7382, 0.7435]"
   ]
  },
  {
   "cell_type": "code",
   "execution_count": 53,
   "metadata": {},
   "outputs": [
    {
     "data": {
      "text/plain": [
       "<function matplotlib.pyplot.show(*args, **kw)>"
      ]
     },
     "execution_count": 53,
     "metadata": {},
     "output_type": "execute_result"
    },
    {
     "data": {
      "image/png": "[encoded data removed]",
      "text/plain": [
       "<Figure size 432x288 with 1 Axes>"
      ]
     },
     "metadata": {
      "needs_background": "light"
     },
     "output_type": "display_data"
    }
   ],
   "source": [
    "x = range(6)\n",
    "label_lists = ['Fold 1', 'Fold 2', 'Fold 3', 'Fold 4', 'Fold 5','Mean',]\n",
    "plt.bar(x, rmse, width=0.5, tick_label=label_lists, label=\"RMSE\")\n",
    "plt.bar(x, mae, width=0.5, tick_label=label_lists, label=\"MAE\")\n",
    "\n",
    "plt.title('User based Collaborative Filtering')\n",
    "plt.grid(axis=\"y\")\n",
    "plt.ylim(0.5, 1.05) \n",
    "plt.legend()\n",
    "plt.show"
   ]
  },
  {
   "cell_type": "code",
   "execution_count": 57,
   "metadata": {},
   "outputs": [
    {
     "name": "stdout",
     "output_type": "stream",
     "text": [
      "Computing the msd similarity matrix...\n",
      "Done computing similarity matrix.\n",
      "Computing the msd similarity matrix...\n",
      "Done computing similarity matrix.\n",
      "Computing the msd similarity matrix...\n",
      "Done computing similarity matrix.\n",
      "Computing the msd similarity matrix...\n",
      "Done computing similarity matrix.\n",
      "Computing the msd similarity matrix...\n",
      "Done computing similarity matrix.\n",
      "Evaluating RMSE, MAE of algorithm KNNBasic on 5 split(s).\n",
      "\n",
      "                  Fold 1  Fold 2  Fold 3  Fold 4  Fold 5  Mean    Std     \n",
      "RMSE (testset)    0.9279  0.9335  0.9399  0.9351  0.9359  0.9345  0.0039  \n",
      "MAE (testset)     0.7139  0.7199  0.7246  0.7230  0.7215  0.7206  0.0037  \n",
      "Fit time          5.35    4.80    4.92    4.75    4.71    4.91    0.23    \n",
      "Test time         8.61    9.52    9.48    8.65    9.56    9.16    0.44    \n"
     ]
    },
    {
     "data": {
      "text/plain": [
       "{'test_rmse': array([0.92789669, 0.93347492, 0.9399388 , 0.93508554, 0.93587756]),\n",
       " 'test_mae': array([0.71392548, 0.71988061, 0.72460229, 0.72296174, 0.72146234]),\n",
       " 'fit_time': (5.351991415023804,\n",
       "  4.8001508712768555,\n",
       "  4.9179065227508545,\n",
       "  4.747086524963379,\n",
       "  4.713931083679199),\n",
       " 'test_time': (8.60990023612976,\n",
       "  9.516311407089233,\n",
       "  9.478062391281128,\n",
       "  8.650595426559448,\n",
       "  9.563170433044434)}"
      ]
     },
     "execution_count": 57,
     "metadata": {},
     "output_type": "execute_result"
    }
   ],
   "source": [
    "# Item based Collaborative Filtering\n",
    "svd = KNNBasic(sim_options = {'user_based': False })\n",
    "cross_validate(svd, data, measures=['RMSE', 'MAE'], cv=5, verbose=True)"
   ]
  },
  {
   "cell_type": "code",
   "execution_count": 47,
   "metadata": {},
   "outputs": [],
   "source": [
    "rmse = [0.9316, 0.9318, 0.9391, 0.9379, 0.9347, 0.9350]\n",
    "mae = [0.7189, 0.7201, 0.7228, 0.7239, 0.7223, 0.7216]"
   ]
  },
  {
   "cell_type": "code",
   "execution_count": 51,
   "metadata": {},
   "outputs": [
    {
     "data": {
      "text/plain": [
       "<function matplotlib.pyplot.show(*args, **kw)>"
      ]
     },
     "execution_count": 51,
     "metadata": {},
     "output_type": "execute_result"
    },
    {
     "data": {
      "image/png": "[encoded data removed]",
      "text/plain": [
       "<Figure size 432x288 with 1 Axes>"
      ]
     },
     "metadata": {
      "needs_background": "light"
     },
     "output_type": "display_data"
    }
   ],
   "source": [
    "x = range(6)\n",
    "label_lists = ['Fold 1', 'Fold 2', 'Fold 3', 'Fold 4', 'Fold 5','Mean',]\n",
    "plt.bar(x, rmse, width=0.5, tick_label=label_lists, label=\"RMSE\")\n",
    "plt.bar(x, mae, width=0.5, tick_label=label_lists, label=\"MAE\")\n",
    "\n",
    "plt.title('Item based Collaborative Filtering')\n",
    "plt.grid(axis=\"y\")\n",
    "plt.ylim(0.5, 1.05) \n",
    "plt.legend()\n",
    "plt.show"
   ]
  },
  {
   "cell_type": "code",
   "execution_count": 63,
   "metadata": {},
   "outputs": [
    {
     "name": "stdout",
     "output_type": "stream",
     "text": [
      "Computing the cosine similarity matrix...\n",
      "Done computing similarity matrix.\n",
      "Computing the cosine similarity matrix...\n",
      "Done computing similarity matrix.\n",
      "Computing the cosine similarity matrix...\n",
      "Done computing similarity matrix.\n",
      "Computing the cosine similarity matrix...\n",
      "Done computing similarity matrix.\n",
      "Computing the cosine similarity matrix...\n",
      "Done computing similarity matrix.\n",
      "Evaluating RMSE, MAE of algorithm KNNBasic on 5 split(s).\n",
      "\n",
      "                  Fold 1  Fold 2  Fold 3  Fold 4  Fold 5  Mean    Std     \n",
      "RMSE (testset)    1.0007  0.9928  0.9912  0.9969  0.9891  0.9941  0.0042  \n",
      "MAE (testset)     0.7718  0.7660  0.7677  0.7710  0.7638  0.7681  0.0030  \n",
      "Fit time          0.87    1.03    0.90    0.98    0.98    0.95    0.06    \n",
      "Test time         2.18    2.21    2.24    2.07    2.29    2.20    0.07    \n"
     ]
    },
    {
     "data": {
      "text/plain": [
       "{'test_rmse': array([1.00067417, 0.9928388 , 0.99119081, 0.99692782, 0.98905456]),\n",
       " 'test_mae': array([0.77175038, 0.76604744, 0.76773091, 0.77099293, 0.76379009]),\n",
       " 'fit_time': (0.8713245391845703,\n",
       "  1.0292253494262695,\n",
       "  0.9020843505859375,\n",
       "  0.9820156097412109,\n",
       "  0.9770388603210449),\n",
       " 'test_time': (2.1773245334625244,\n",
       "  2.20902681350708,\n",
       "  2.2399017810821533,\n",
       "  2.0734753608703613,\n",
       "  2.2940895557403564)}"
      ]
     },
     "execution_count": 63,
     "metadata": {},
     "output_type": "execute_result"
    }
   ],
   "source": [
    "# Cosine on User based Collaborative Filtering\n",
    "svd = KNNBasic(sim_options = {'name':'cosine','user_based': True})\n",
    "cross_validate(svd, data, measures=['RMSE', 'MAE'], cv=5, verbose=True)"
   ]
  },
  {
   "cell_type": "code",
   "execution_count": 67,
   "metadata": {},
   "outputs": [
    {
     "data": {
      "text/plain": [
       "<function matplotlib.pyplot.show(*args, **kw)>"
      ]
     },
     "execution_count": 67,
     "metadata": {},
     "output_type": "execute_result"
    },
    {
     "data": {
      "image/png": "[encoded data removed]",
      "text/plain": [
       "<Figure size 432x288 with 1 Axes>"
      ]
     },
     "metadata": {
      "needs_background": "light"
     },
     "output_type": "display_data"
    }
   ],
   "source": [
    "rmse = [1.0007, 0.9928, 0.9912, 0.9969, 0.9891, 0.9941]\n",
    "mae = [0.7718, 0.7660, 0.7677, 0.7710, 0.7638, 0.7681]\n",
    "\n",
    "x = range(6)\n",
    "label_lists = ['Fold 1', 'Fold 2', 'Fold 3', 'Fold 4', 'Fold 5','Mean',]\n",
    "plt.bar(x, rmse, width=0.5, tick_label=label_lists, label=\"RMSE\")\n",
    "plt.bar(x, mae, width=0.5, tick_label=label_lists, label=\"MAE\")\n",
    "\n",
    "plt.title('Cosine')\n",
    "plt.xlabel('User based Collaborative Filtering')\n",
    "plt.grid(axis=\"y\")\n",
    "plt.ylim(0.5, 1.1) \n",
    "plt.legend()\n",
    "plt.show"
   ]
  },
  {
   "cell_type": "code",
   "execution_count": 64,
   "metadata": {},
   "outputs": [
    {
     "name": "stdout",
     "output_type": "stream",
     "text": [
      "Computing the msd similarity matrix...\n",
      "Done computing similarity matrix.\n",
      "Computing the msd similarity matrix...\n",
      "Done computing similarity matrix.\n",
      "Computing the msd similarity matrix...\n",
      "Done computing similarity matrix.\n",
      "Computing the msd similarity matrix...\n",
      "Done computing similarity matrix.\n",
      "Computing the msd similarity matrix...\n",
      "Done computing similarity matrix.\n",
      "Evaluating RMSE, MAE of algorithm KNNBasic on 5 split(s).\n",
      "\n",
      "                  Fold 1  Fold 2  Fold 3  Fold 4  Fold 5  Mean    Std     \n",
      "RMSE (testset)    0.9633  0.9715  0.9670  0.9627  0.9710  0.9671  0.0037  \n",
      "MAE (testset)     0.7427  0.7468  0.7419  0.7406  0.7455  0.7435  0.0023  \n",
      "Fit time          0.26    0.33    0.31    0.31    0.31    0.30    0.02    \n",
      "Test time         2.27    2.29    2.30    2.16    2.27    2.26    0.05    \n"
     ]
    },
    {
     "data": {
      "text/plain": [
       "{'test_rmse': array([0.96328755, 0.97146145, 0.96703953, 0.96269589, 0.97100736]),\n",
       " 'test_mae': array([0.74271253, 0.74678154, 0.74190653, 0.74061117, 0.74553151]),\n",
       " 'fit_time': (0.26331043243408203,\n",
       "  0.32682037353515625,\n",
       "  0.30582308769226074,\n",
       "  0.3108396530151367,\n",
       "  0.3136024475097656),\n",
       " 'test_time': (2.266467571258545,\n",
       "  2.2872679233551025,\n",
       "  2.2959375381469727,\n",
       "  2.1561641693115234,\n",
       "  2.2695295810699463)}"
      ]
     },
     "execution_count": 64,
     "metadata": {},
     "output_type": "execute_result"
    }
   ],
   "source": [
    "# MSD on User based Collaborative Filtering\n",
    "svd = KNNBasic(sim_options = {'name':'MSD','user_based': True})\n",
    "cross_validate(svd, data, measures=['RMSE', 'MAE'], cv=5, verbose=True)"
   ]
  },
  {
   "cell_type": "code",
   "execution_count": 69,
   "metadata": {},
   "outputs": [
    {
     "data": {
      "text/plain": [
       "<function matplotlib.pyplot.show(*args, **kw)>"
      ]
     },
     "execution_count": 69,
     "metadata": {},
     "output_type": "execute_result"
    },
    {
     "data": {
      "image/png": "[encoded data removed]",
      "text/plain": [
       "<Figure size 432x288 with 1 Axes>"
      ]
     },
     "metadata": {
      "needs_background": "light"
     },
     "output_type": "display_data"
    }
   ],
   "source": [
    "rmse = [0.9633, 0.9715, 0.9670, 0.9627, 0.9710, 0.9671]\n",
    "mae = [0.7427, 0.7468, 0.7419, 0.7406, 0.7455, 0.7435]\n",
    "\n",
    "x = range(6)\n",
    "label_lists = ['Fold 1', 'Fold 2', 'Fold 3', 'Fold 4', 'Fold 5','Mean',]\n",
    "plt.bar(x, rmse, width=0.5, tick_label=label_lists, label=\"RMSE\")\n",
    "plt.bar(x, mae, width=0.5, tick_label=label_lists, label=\"MAE\")\n",
    "\n",
    "plt.title('MSD')\n",
    "plt.xlabel('User based Collaborative Filtering')\n",
    "plt.grid(axis=\"y\")\n",
    "plt.ylim(0.5, 1.05) \n",
    "plt.legend()\n",
    "plt.show"
   ]
  },
  {
   "cell_type": "code",
   "execution_count": 86,
   "metadata": {},
   "outputs": [
    {
     "name": "stdout",
     "output_type": "stream",
     "text": [
      "Computing the pearson similarity matrix...\n",
      "Done computing similarity matrix.\n",
      "Computing the pearson similarity matrix...\n",
      "Done computing similarity matrix.\n",
      "Computing the pearson similarity matrix...\n",
      "Done computing similarity matrix.\n",
      "Computing the pearson similarity matrix...\n",
      "Done computing similarity matrix.\n",
      "Computing the pearson similarity matrix...\n",
      "Done computing similarity matrix.\n",
      "Evaluating RMSE, MAE of algorithm KNNBasic on 5 split(s).\n",
      "\n",
      "                  Fold 1  Fold 2  Fold 3  Fold 4  Fold 5  Mean    Std     \n",
      "RMSE (testset)    1.0019  1.0068  0.9975  0.9915  1.0008  0.9997  0.0051  \n",
      "MAE (testset)     0.7743  0.7790  0.7748  0.7674  0.7727  0.7736  0.0038  \n",
      "Fit time          1.18    1.11    1.22    1.12    1.13    1.15    0.04    \n",
      "Test time         2.29    2.00    2.05    2.25    2.12    2.14    0.11    \n"
     ]
    },
    {
     "data": {
      "text/plain": [
       "{'test_rmse': array([1.00192295, 1.00684439, 0.99753892, 0.99148026, 1.00084221]),\n",
       " 'test_mae': array([0.77434306, 0.77896134, 0.7748261 , 0.76737247, 0.77270244]),\n",
       " 'fit_time': (1.1843829154968262,\n",
       "  1.1103739738464355,\n",
       "  1.222533941268921,\n",
       "  1.1201229095458984,\n",
       "  1.1309971809387207),\n",
       " 'test_time': (2.2911672592163086,\n",
       "  2.004331588745117,\n",
       "  2.0504913330078125,\n",
       "  2.249509811401367,\n",
       "  2.1219379901885986)}"
      ]
     },
     "execution_count": 86,
     "metadata": {},
     "output_type": "execute_result"
    }
   ],
   "source": [
    "# Pearson on User based Collaborative Filtering\n",
    "svd = KNNBasic(sim_options = {'name':'Pearson','user_based': True})\n",
    "cross_validate(svd, data, measures=['RMSE', 'MAE'], cv=5, verbose=True)"
   ]
  },
  {
   "cell_type": "code",
   "execution_count": 73,
   "metadata": {},
   "outputs": [
    {
     "data": {
      "text/plain": [
       "<function matplotlib.pyplot.show(*args, **kw)>"
      ]
     },
     "execution_count": 73,
     "metadata": {},
     "output_type": "execute_result"
    },
    {
     "data": {
      "image/png": "[encoded data removed]",
      "text/plain": [
       "<Figure size 432x288 with 1 Axes>"
      ]
     },
     "metadata": {
      "needs_background": "light"
     },
     "output_type": "display_data"
    }
   ],
   "source": [
    "rmse = [1.0014, 0.9990, 0.9947, 0.9925, 0.9979, 0.9971]\n",
    "mae = [0.7742, 0.7731, 0.7686, 0.7700, 0.7727, 0.7717]\n",
    "\n",
    "x = range(6)\n",
    "label_lists = ['Fold 1', 'Fold 2', 'Fold 3', 'Fold 4', 'Fold 5','Mean',]\n",
    "plt.bar(x, rmse, width=0.5, tick_label=label_lists, label=\"RMSE\")\n",
    "plt.bar(x, mae, width=0.5, tick_label=label_lists, label=\"MAE\")\n",
    "\n",
    "plt.title('Pearson')\n",
    "plt.xlabel('User based Collaborative Filtering')\n",
    "plt.grid(axis=\"y\")\n",
    "plt.ylim(0.5, 1.10) \n",
    "plt.legend()\n",
    "plt.show"
   ]
  },
  {
   "cell_type": "code",
   "execution_count": 87,
   "metadata": {},
   "outputs": [
    {
     "name": "stdout",
     "output_type": "stream",
     "text": [
      "Computing the cosine similarity matrix...\n",
      "Done computing similarity matrix.\n",
      "Computing the cosine similarity matrix...\n",
      "Done computing similarity matrix.\n",
      "Computing the cosine similarity matrix...\n",
      "Done computing similarity matrix.\n",
      "Computing the cosine similarity matrix...\n",
      "Done computing similarity matrix.\n",
      "Computing the cosine similarity matrix...\n",
      "Done computing similarity matrix.\n",
      "Evaluating RMSE, MAE of algorithm KNNBasic on 5 split(s).\n",
      "\n",
      "                  Fold 1  Fold 2  Fold 3  Fold 4  Fold 5  Mean    Std     \n",
      "RMSE (testset)    0.9954  0.9964  0.9962  0.9936  0.9954  0.9954  0.0010  \n",
      "MAE (testset)     0.7735  0.7769  0.7728  0.7751  0.7767  0.7750  0.0017  \n",
      "Fit time          22.54   23.98   21.45   20.95   22.53   22.29   1.05    \n",
      "Test time         11.18   10.63   10.04   11.19   10.31   10.67   0.46    \n"
     ]
    },
    {
     "data": {
      "text/plain": [
       "{'test_rmse': array([0.99539448, 0.99638091, 0.99622193, 0.9935758 , 0.99542158]),\n",
       " 'test_mae': array([0.77348569, 0.77689525, 0.77275355, 0.77513649, 0.77667405]),\n",
       " 'fit_time': (22.538509368896484,\n",
       "  23.98214316368103,\n",
       "  21.449933290481567,\n",
       "  20.953981399536133,\n",
       "  22.533920764923096),\n",
       " 'test_time': (11.176972150802612,\n",
       "  10.63116979598999,\n",
       "  10.036210775375366,\n",
       "  11.185604095458984,\n",
       "  10.312542915344238)}"
      ]
     },
     "execution_count": 87,
     "metadata": {},
     "output_type": "execute_result"
    }
   ],
   "source": [
    "# Cosine on Item based Collaborative Filtering\n",
    "svd = KNNBasic(sim_options = {'name':'cosine','user_based': False})\n",
    "cross_validate(svd, data, measures=['RMSE', 'MAE'], cv=5, verbose=True)"
   ]
  },
  {
   "cell_type": "code",
   "execution_count": 75,
   "metadata": {},
   "outputs": [
    {
     "data": {
      "text/plain": [
       "<function matplotlib.pyplot.show(*args, **kw)>"
      ]
     },
     "execution_count": 75,
     "metadata": {},
     "output_type": "execute_result"
    },
    {
     "data": {
      "image/png": "[encoded data removed]",
      "text/plain": [
       "<Figure size 432x288 with 1 Axes>"
      ]
     },
     "metadata": {
      "needs_background": "light"
     },
     "output_type": "display_data"
    }
   ],
   "source": [
    "rmse = [0.9975, 0.9951, 0.9925, 0.9896, 0.9968, 0.9943]\n",
    "mae = [0.7766, 0.7751, 0.7738, 0.7718, 0.7767, 0.7748]\n",
    "\n",
    "x = range(6)\n",
    "label_lists = ['Fold 1', 'Fold 2', 'Fold 3', 'Fold 4', 'Fold 5','Mean',]\n",
    "plt.bar(x, rmse, width=0.5, tick_label=label_lists, label=\"RMSE\")\n",
    "plt.bar(x, mae, width=0.5, tick_label=label_lists, label=\"MAE\")\n",
    "\n",
    "plt.title('Cosine')\n",
    "plt.xlabel('Item based Collaborative Filtering')\n",
    "plt.grid(axis=\"y\")\n",
    "plt.ylim(0.5, 1.1) \n",
    "plt.legend()\n",
    "plt.show"
   ]
  },
  {
   "cell_type": "code",
   "execution_count": 77,
   "metadata": {},
   "outputs": [
    {
     "data": {
      "text/plain": [
       "<function matplotlib.pyplot.show(*args, **kw)>"
      ]
     },
     "execution_count": 77,
     "metadata": {},
     "output_type": "execute_result"
    },
    {
     "data": {
      "image/png": "[encoded data removed]",
      "text/plain": [
       "<Figure size 432x288 with 1 Axes>"
      ]
     },
     "metadata": {
      "needs_background": "light"
     },
     "output_type": "display_data"
    }
   ],
   "source": [
    "rmse = [0.9941, 0.9671, 0.9971]\n",
    "mae = [0.7681, 0.7435, 0.7717]\n",
    "\n",
    "x = range(3)\n",
    "label_lists = ['Cosine', 'MSD', 'Pearson']\n",
    "plt.bar(x, rmse, width=0.5, tick_label=label_lists, label=\"RMSE\")\n",
    "plt.bar(x, mae, width=0.5, tick_label=label_lists, label=\"MAE\")\n",
    "\n",
    "plt.title('User based Collaborative Filtering')\n",
    "plt.grid(axis=\"y\")\n",
    "plt.ylim(0.5, 1.1) \n",
    "plt.legend()\n",
    "plt.show"
   ]
  },
  {
   "cell_type": "code",
   "execution_count": 78,
   "metadata": {},
   "outputs": [
    {
     "name": "stdout",
     "output_type": "stream",
     "text": [
      "Computing the msd similarity matrix...\n",
      "Done computing similarity matrix.\n",
      "Computing the msd similarity matrix...\n",
      "Done computing similarity matrix.\n",
      "Computing the msd similarity matrix...\n",
      "Done computing similarity matrix.\n",
      "Computing the msd similarity matrix...\n",
      "Done computing similarity matrix.\n",
      "Computing the msd similarity matrix...\n",
      "Done computing similarity matrix.\n",
      "Evaluating RMSE, MAE of algorithm KNNBasic on 5 split(s).\n",
      "\n",
      "                  Fold 1  Fold 2  Fold 3  Fold 4  Fold 5  Mean    Std     \n",
      "RMSE (testset)    0.9421  0.9354  0.9286  0.9323  0.9341  0.9345  0.0044  \n",
      "MAE (testset)     0.7274  0.7191  0.7183  0.7192  0.7195  0.7207  0.0034  \n",
      "Fit time          6.19    6.93    5.80    5.47    5.24    5.93    0.59    \n",
      "Test time         12.44   12.04   11.12   10.48   10.14   11.25   0.88    \n"
     ]
    },
    {
     "data": {
      "text/plain": [
       "{'test_rmse': array([0.9421065 , 0.93540682, 0.92859824, 0.9322907 , 0.93411368]),\n",
       " 'test_mae': array([0.72739003, 0.71914682, 0.71827631, 0.71918359, 0.7195157 ]),\n",
       " 'fit_time': (6.191258192062378,\n",
       "  6.925668954849243,\n",
       "  5.799262046813965,\n",
       "  5.469772577285767,\n",
       "  5.240434646606445),\n",
       " 'test_time': (12.444624900817871,\n",
       "  12.041251420974731,\n",
       "  11.121269226074219,\n",
       "  10.484580039978027,\n",
       "  10.141892910003662)}"
      ]
     },
     "execution_count": 78,
     "metadata": {},
     "output_type": "execute_result"
    }
   ],
   "source": [
    "# MSD on Item based Collaborative Filtering\n",
    "svd = KNNBasic(sim_options = {'name':'MSD','user_based': False})\n",
    "cross_validate(svd, data, measures=['RMSE', 'MAE'], cv=5, verbose=True)"
   ]
  },
  {
   "cell_type": "code",
   "execution_count": 80,
   "metadata": {},
   "outputs": [
    {
     "data": {
      "text/plain": [
       "<function matplotlib.pyplot.show(*args, **kw)>"
      ]
     },
     "execution_count": 80,
     "metadata": {},
     "output_type": "execute_result"
    },
    {
     "data": {
      "image/png": "[encoded data removed]",
      "text/plain": [
       "<Figure size 432x288 with 1 Axes>"
      ]
     },
     "metadata": {
      "needs_background": "light"
     },
     "output_type": "display_data"
    }
   ],
   "source": [
    "rmse = [0.9421, 0.9354, 0.9286, 0.9323, 0.9341, 0.9345]\n",
    "mae = [0.7274, 0.7191, 0.7183, 0.7192, 0.7195, 0.7207]\n",
    "\n",
    "x = range(6)\n",
    "label_lists = ['Fold 1', 'Fold 2', 'Fold 3', 'Fold 4', 'Fold 5','Mean',]\n",
    "plt.bar(x, rmse, width=0.5, tick_label=label_lists, label=\"RMSE\")\n",
    "plt.bar(x, mae, width=0.5, tick_label=label_lists, label=\"MAE\")\n",
    "\n",
    "plt.title('MSD')\n",
    "plt.xlabel('Item based Collaborative Filtering')\n",
    "plt.grid(axis=\"y\")\n",
    "plt.ylim(0.5, 1.05) \n",
    "plt.legend()\n",
    "plt.show"
   ]
  },
  {
   "cell_type": "code",
   "execution_count": 88,
   "metadata": {},
   "outputs": [
    {
     "name": "stdout",
     "output_type": "stream",
     "text": [
      "Computing the pearson similarity matrix...\n",
      "Done computing similarity matrix.\n",
      "Computing the pearson similarity matrix...\n",
      "Done computing similarity matrix.\n",
      "Computing the pearson similarity matrix...\n",
      "Done computing similarity matrix.\n",
      "Computing the pearson similarity matrix...\n",
      "Done computing similarity matrix.\n",
      "Computing the pearson similarity matrix...\n",
      "Done computing similarity matrix.\n",
      "Evaluating RMSE, MAE of algorithm KNNBasic on 5 split(s).\n",
      "\n",
      "                  Fold 1  Fold 2  Fold 3  Fold 4  Fold 5  Mean    Std     \n",
      "RMSE (testset)    0.9888  0.9842  0.9886  0.9974  0.9882  0.9894  0.0043  \n",
      "MAE (testset)     0.7669  0.7627  0.7667  0.7737  0.7707  0.7681  0.0038  \n",
      "Fit time          32.59   32.47   35.96   30.85   29.97   32.37   2.05    \n",
      "Test time         10.04   12.45   11.70   11.73   10.56   11.29   0.87    \n"
     ]
    },
    {
     "data": {
      "text/plain": [
       "{'test_rmse': array([0.9888382 , 0.98416161, 0.98858646, 0.99740629, 0.9882084 ]),\n",
       " 'test_mae': array([0.76689913, 0.76269747, 0.76669322, 0.77371306, 0.77069918]),\n",
       " 'fit_time': (32.59060287475586,\n",
       "  32.46568274497986,\n",
       "  35.95891046524048,\n",
       "  30.84596037864685,\n",
       "  29.96687912940979),\n",
       " 'test_time': (10.035069704055786,\n",
       "  12.446287155151367,\n",
       "  11.703556299209595,\n",
       "  11.725853443145752,\n",
       "  10.562217473983765)}"
      ]
     },
     "execution_count": 88,
     "metadata": {},
     "output_type": "execute_result"
    }
   ],
   "source": [
    "# Pearson on Item based Collaborative Filtering\n",
    "svd = KNNBasic(sim_options = {'name':'Pearson','user_based': False})\n",
    "cross_validate(svd, data, measures=['RMSE', 'MAE'], cv=5, verbose=True)"
   ]
  },
  {
   "cell_type": "code",
   "execution_count": 84,
   "metadata": {},
   "outputs": [
    {
     "data": {
      "text/plain": [
       "<function matplotlib.pyplot.show(*args, **kw)>"
      ]
     },
     "execution_count": 84,
     "metadata": {},
     "output_type": "execute_result"
    },
    {
     "data": {
      "image/png": "[encoded data removed]",
      "text/plain": [
       "<Figure size 432x288 with 1 Axes>"
      ]
     },
     "metadata": {
      "needs_background": "light"
     },
     "output_type": "display_data"
    }
   ],
   "source": [
    "rmse = [0.9962, 0.9878, 0.9868, 0.9810, 0.9913, 0.9886]\n",
    "mae = [0.7740, 0.7638, 0.7679, 0.7615, 0.7690, 0.7672]\n",
    "\n",
    "x = range(6)\n",
    "label_lists = ['Fold 1', 'Fold 2', 'Fold 3', 'Fold 4', 'Fold 5','Mean',]\n",
    "plt.bar(x, rmse, width=0.5, tick_label=label_lists, label=\"RMSE\")\n",
    "plt.bar(x, mae, width=0.5, tick_label=label_lists, label=\"MAE\")\n",
    "\n",
    "plt.title('Pearson')\n",
    "plt.xlabel('Item based Collaborative Filtering')\n",
    "plt.grid(axis=\"y\")\n",
    "plt.ylim(0.5, 1.10) \n",
    "plt.legend()\n",
    "plt.show"
   ]
  },
  {
   "cell_type": "code",
   "execution_count": 85,
   "metadata": {},
   "outputs": [
    {
     "data": {
      "text/plain": [
       "<function matplotlib.pyplot.show(*args, **kw)>"
      ]
     },
     "execution_count": 85,
     "metadata": {},
     "output_type": "execute_result"
    },
    {
     "data": {
      "image/png": "[encoded data removed]",
      "text/plain": [
       "<Figure size 432x288 with 1 Axes>"
      ]
     },
     "metadata": {
      "needs_background": "light"
     },
     "output_type": "display_data"
    }
   ],
   "source": [
    "rmse = [0.9943, 0.9345, 0.9886]\n",
    "mae = [0.7748, 0.7207, 0.7672]\n",
    "\n",
    "x = range(3)\n",
    "label_lists = ['Cosine', 'MSD', 'Pearson']\n",
    "plt.bar(x, rmse, width=0.5, tick_label=label_lists, label=\"RMSE\")\n",
    "plt.bar(x, mae, width=0.5, tick_label=label_lists, label=\"MAE\")\n",
    "\n",
    "plt.title('Item based Collaborative Filtering')\n",
    "plt.grid(axis=\"y\")\n",
    "plt.ylim(0.5, 1.1) \n",
    "plt.legend()\n",
    "plt.show"
   ]
  },
  {
   "cell_type": "code",
   "execution_count": 94,
   "metadata": {},
   "outputs": [
    {
     "name": "stdout",
     "output_type": "stream",
     "text": [
      "Computing the msd similarity matrix...\n",
      "Done computing similarity matrix.\n",
      "Computing the msd similarity matrix...\n",
      "Done computing similarity matrix.\n",
      "Computing the msd similarity matrix...\n",
      "Done computing similarity matrix.\n",
      "Computing the msd similarity matrix...\n",
      "Done computing similarity matrix.\n",
      "Computing the msd similarity matrix...\n",
      "Done computing similarity matrix.\n",
      "Evaluating RMSE, MAE of algorithm KNNBasic on 5 split(s).\n",
      "\n",
      "                  Fold 1  Fold 2  Fold 3  Fold 4  Fold 5  Mean    Std     \n",
      "RMSE (testset)    1.2102  1.2148  1.2062  1.2055  1.2138  1.2101  0.0038  \n",
      "MAE (testset)     0.9043  0.9046  0.8978  0.9034  0.9042  0.9029  0.0026  \n",
      "Fit time          0.27    0.35    0.33    0.33    0.31    0.32    0.03    \n",
      "Test time         1.09    1.12    1.23    1.20    1.32    1.19    0.08    \n",
      "Computing the msd similarity matrix...\n",
      "Done computing similarity matrix.\n",
      "Computing the msd similarity matrix...\n",
      "Done computing similarity matrix.\n",
      "Computing the msd similarity matrix...\n",
      "Done computing similarity matrix.\n",
      "Computing the msd similarity matrix...\n",
      "Done computing similarity matrix.\n",
      "Computing the msd similarity matrix...\n",
      "Done computing similarity matrix.\n",
      "Evaluating RMSE, MAE of algorithm KNNBasic on 5 split(s).\n",
      "\n",
      "                  Fold 1  Fold 2  Fold 3  Fold 4  Fold 5  Mean    Std     \n",
      "RMSE (testset)    1.0735  1.0732  1.0781  1.0697  1.0778  1.0745  0.0032  \n",
      "MAE (testset)     0.8170  0.8175  0.8201  0.8168  0.8217  0.8186  0.0019  \n",
      "Fit time          0.36    0.35    0.36    0.34    0.37    0.36    0.01    \n",
      "Test time         1.57    1.61    1.81    1.63    1.67    1.66    0.08    \n",
      "Computing the msd similarity matrix...\n",
      "Done computing similarity matrix.\n",
      "Computing the msd similarity matrix...\n",
      "Done computing similarity matrix.\n",
      "Computing the msd similarity matrix...\n",
      "Done computing similarity matrix.\n",
      "Computing the msd similarity matrix...\n",
      "Done computing similarity matrix.\n",
      "Computing the msd similarity matrix...\n",
      "Done computing similarity matrix.\n",
      "Evaluating RMSE, MAE of algorithm KNNBasic on 5 split(s).\n",
      "\n",
      "                  Fold 1  Fold 2  Fold 3  Fold 4  Fold 5  Mean    Std     \n",
      "RMSE (testset)    1.0270  1.0322  1.0246  1.0219  1.0190  1.0250  0.0045  \n",
      "MAE (testset)     0.7866  0.7898  0.7875  0.7838  0.7795  0.7854  0.0035  \n",
      "Fit time          0.37    0.31    0.31    0.29    0.29    0.31    0.03    \n",
      "Test time         1.99    1.45    1.57    1.49    1.46    1.59    0.20    \n",
      "Computing the msd similarity matrix...\n",
      "Done computing similarity matrix.\n",
      "Computing the msd similarity matrix...\n",
      "Done computing similarity matrix.\n",
      "Computing the msd similarity matrix...\n",
      "Done computing similarity matrix.\n",
      "Computing the msd similarity matrix...\n",
      "Done computing similarity matrix.\n",
      "Computing the msd similarity matrix...\n",
      "Done computing similarity matrix.\n",
      "Evaluating RMSE, MAE of algorithm KNNBasic on 5 split(s).\n",
      "\n",
      "                  Fold 1  Fold 2  Fold 3  Fold 4  Fold 5  Mean    Std     \n",
      "RMSE (testset)    1.0003  0.9961  1.0034  1.0003  0.9943  0.9989  0.0033  \n",
      "MAE (testset)     0.7664  0.7652  0.7656  0.7664  0.7610  0.7649  0.0020  \n",
      "Fit time          0.31    0.34    0.31    0.37    0.31    0.33    0.02    \n",
      "Test time         1.67    1.49    1.55    1.67    1.41    1.56    0.10    \n",
      "Computing the msd similarity matrix...\n",
      "Done computing similarity matrix.\n",
      "Computing the msd similarity matrix...\n",
      "Done computing similarity matrix.\n",
      "Computing the msd similarity matrix...\n",
      "Done computing similarity matrix.\n",
      "Computing the msd similarity matrix...\n",
      "Done computing similarity matrix.\n",
      "Computing the msd similarity matrix...\n",
      "Done computing similarity matrix.\n",
      "Evaluating RMSE, MAE of algorithm KNNBasic on 5 split(s).\n",
      "\n",
      "                  Fold 1  Fold 2  Fold 3  Fold 4  Fold 5  Mean    Std     \n",
      "RMSE (testset)    0.9879  0.9833  0.9821  0.9946  0.9809  0.9858  0.0050  \n",
      "MAE (testset)     0.7543  0.7503  0.7533  0.7606  0.7506  0.7538  0.0037  \n",
      "Fit time          0.28    0.35    0.29    0.29    0.30    0.30    0.03    \n",
      "Test time         1.56    1.65    1.39    1.74    1.67    1.60    0.12    \n",
      "Computing the msd similarity matrix...\n",
      "Done computing similarity matrix.\n",
      "Computing the msd similarity matrix...\n",
      "Done computing similarity matrix.\n",
      "Computing the msd similarity matrix...\n",
      "Done computing similarity matrix.\n",
      "Computing the msd similarity matrix...\n",
      "Done computing similarity matrix.\n",
      "Computing the msd similarity matrix...\n",
      "Done computing similarity matrix.\n",
      "Evaluating RMSE, MAE of algorithm KNNBasic on 5 split(s).\n",
      "\n",
      "                  Fold 1  Fold 2  Fold 3  Fold 4  Fold 5  Mean    Std     \n",
      "RMSE (testset)    0.9773  0.9845  0.9857  0.9766  0.9706  0.9789  0.0056  \n",
      "MAE (testset)     0.7476  0.7511  0.7525  0.7498  0.7435  0.7489  0.0031  \n",
      "Fit time          0.28    0.29    0.33    0.29    0.41    0.32    0.05    \n",
      "Test time         1.45    1.74    1.67    1.43    1.72    1.60    0.13    \n",
      "Computing the msd similarity matrix...\n",
      "Done computing similarity matrix.\n",
      "Computing the msd similarity matrix...\n",
      "Done computing similarity matrix.\n",
      "Computing the msd similarity matrix...\n",
      "Done computing similarity matrix.\n",
      "Computing the msd similarity matrix...\n",
      "Done computing similarity matrix.\n",
      "Computing the msd similarity matrix...\n",
      "Done computing similarity matrix.\n",
      "Evaluating RMSE, MAE of algorithm KNNBasic on 5 split(s).\n",
      "\n",
      "                  Fold 1  Fold 2  Fold 3  Fold 4  Fold 5  Mean    Std     \n",
      "RMSE (testset)    0.9701  0.9722  0.9657  0.9759  0.9740  0.9716  0.0035  \n",
      "MAE (testset)     0.7423  0.7430  0.7392  0.7459  0.7460  0.7433  0.0025  \n",
      "Fit time          0.34    0.35    0.35    0.31    0.49    0.37    0.06    \n",
      "Test time         1.78    1.93    1.63    1.51    2.27    1.82    0.26    \n",
      "Computing the msd similarity matrix...\n",
      "Done computing similarity matrix.\n",
      "Computing the msd similarity matrix...\n",
      "Done computing similarity matrix.\n",
      "Computing the msd similarity matrix...\n",
      "Done computing similarity matrix.\n",
      "Computing the msd similarity matrix...\n",
      "Done computing similarity matrix.\n",
      "Computing the msd similarity matrix...\n",
      "Done computing similarity matrix.\n",
      "Evaluating RMSE, MAE of algorithm KNNBasic on 5 split(s).\n",
      "\n",
      "                  Fold 1  Fold 2  Fold 3  Fold 4  Fold 5  Mean    Std     \n",
      "RMSE (testset)    0.9642  0.9685  0.9677  0.9707  0.9694  0.9681  0.0022  \n",
      "MAE (testset)     0.7358  0.7421  0.7411  0.7427  0.7390  0.7402  0.0025  \n",
      "Fit time          0.29    0.32    0.35    0.32    0.30    0.31    0.02    \n",
      "Test time         1.68    3.04    1.96    2.21    1.95    2.17    0.47    \n",
      "Computing the msd similarity matrix...\n",
      "Done computing similarity matrix.\n",
      "Computing the msd similarity matrix...\n",
      "Done computing similarity matrix.\n",
      "Computing the msd similarity matrix...\n",
      "Done computing similarity matrix.\n",
      "Computing the msd similarity matrix...\n",
      "Done computing similarity matrix.\n",
      "Computing the msd similarity matrix...\n",
      "Done computing similarity matrix.\n",
      "Evaluating RMSE, MAE of algorithm KNNBasic on 5 split(s).\n",
      "\n",
      "                  Fold 1  Fold 2  Fold 3  Fold 4  Fold 5  Mean    Std     \n",
      "RMSE (testset)    0.9677  0.9603  0.9579  0.9732  0.9719  0.9662  0.0061  \n",
      "MAE (testset)     0.7390  0.7341  0.7334  0.7433  0.7429  0.7385  0.0042  \n",
      "Fit time          0.37    0.38    0.28    0.35    0.33    0.34    0.04    \n",
      "Test time         1.89    1.77    1.95    2.05    1.98    1.93    0.10    \n",
      "Computing the msd similarity matrix...\n",
      "Done computing similarity matrix.\n",
      "Computing the msd similarity matrix...\n",
      "Done computing similarity matrix.\n",
      "Computing the msd similarity matrix...\n",
      "Done computing similarity matrix.\n",
      "Computing the msd similarity matrix...\n",
      "Done computing similarity matrix.\n",
      "Computing the msd similarity matrix...\n",
      "Done computing similarity matrix.\n",
      "Evaluating RMSE, MAE of algorithm KNNBasic on 5 split(s).\n",
      "\n",
      "                  Fold 1  Fold 2  Fold 3  Fold 4  Fold 5  Mean    Std     \n",
      "RMSE (testset)    0.9577  0.9608  0.9711  0.9596  0.9778  0.9654  0.0078  \n",
      "MAE (testset)     0.7351  0.7357  0.7445  0.7338  0.7444  0.7387  0.0047  \n",
      "Fit time          0.37    0.36    0.30    0.37    0.28    0.34    0.04    \n",
      "Test time         2.12    1.81    1.96    1.74    1.78    1.88    0.14    \n",
      "Computing the msd similarity matrix...\n",
      "Done computing similarity matrix.\n",
      "Computing the msd similarity matrix...\n",
      "Done computing similarity matrix.\n",
      "Computing the msd similarity matrix...\n",
      "Done computing similarity matrix.\n",
      "Computing the msd similarity matrix...\n",
      "Done computing similarity matrix.\n",
      "Computing the msd similarity matrix...\n",
      "Done computing similarity matrix.\n",
      "Evaluating RMSE, MAE of algorithm KNNBasic on 5 split(s).\n",
      "\n",
      "                  Fold 1  Fold 2  Fold 3  Fold 4  Fold 5  Mean    Std     \n",
      "RMSE (testset)    0.9637  0.9616  0.9682  0.9691  0.9573  0.9640  0.0044  \n",
      "MAE (testset)     0.7372  0.7368  0.7373  0.7412  0.7348  0.7374  0.0021  \n",
      "Fit time          0.30    0.28    0.32    0.32    0.28    0.30    0.02    \n",
      "Test time         1.87    1.77    1.92    1.65    1.80    1.80    0.09    \n",
      "Computing the msd similarity matrix...\n",
      "Done computing similarity matrix.\n",
      "Computing the msd similarity matrix...\n",
      "Done computing similarity matrix.\n",
      "Computing the msd similarity matrix...\n",
      "Done computing similarity matrix.\n",
      "Computing the msd similarity matrix...\n",
      "Done computing similarity matrix.\n",
      "Computing the msd similarity matrix...\n",
      "Done computing similarity matrix.\n",
      "Evaluating RMSE, MAE of algorithm KNNBasic on 5 split(s).\n",
      "\n",
      "                  Fold 1  Fold 2  Fold 3  Fold 4  Fold 5  Mean    Std     \n",
      "RMSE (testset)    0.9676  0.9657  0.9567  0.9596  0.9638  0.9627  0.0040  \n",
      "MAE (testset)     0.7404  0.7379  0.7323  0.7355  0.7389  0.7370  0.0028  \n",
      "Fit time          0.27    0.30    0.30    0.32    0.31    0.30    0.02    \n",
      "Test time         1.72    1.84    1.85    1.65    1.88    1.79    0.09    \n",
      "Computing the msd similarity matrix...\n",
      "Done computing similarity matrix.\n",
      "Computing the msd similarity matrix...\n",
      "Done computing similarity matrix.\n",
      "Computing the msd similarity matrix...\n",
      "Done computing similarity matrix.\n",
      "Computing the msd similarity matrix...\n",
      "Done computing similarity matrix.\n",
      "Computing the msd similarity matrix...\n",
      "Done computing similarity matrix.\n",
      "Evaluating RMSE, MAE of algorithm KNNBasic on 5 split(s).\n",
      "\n",
      "                  Fold 1  Fold 2  Fold 3  Fold 4  Fold 5  Mean    Std     \n",
      "RMSE (testset)    0.9667  0.9547  0.9588  0.9641  0.9680  0.9625  0.0050  \n",
      "MAE (testset)     0.7427  0.7306  0.7338  0.7369  0.7413  0.7371  0.0045  \n",
      "Fit time          0.29    0.29    0.37    0.32    0.32    0.32    0.03    \n",
      "Test time         1.83    1.86    1.82    1.78    2.00    1.86    0.08    \n",
      "Computing the msd similarity matrix...\n",
      "Done computing similarity matrix.\n",
      "Computing the msd similarity matrix...\n",
      "Done computing similarity matrix.\n",
      "Computing the msd similarity matrix...\n",
      "Done computing similarity matrix.\n",
      "Computing the msd similarity matrix...\n",
      "Done computing similarity matrix.\n",
      "Computing the msd similarity matrix...\n",
      "Done computing similarity matrix.\n",
      "Evaluating RMSE, MAE of algorithm KNNBasic on 5 split(s).\n",
      "\n",
      "                  Fold 1  Fold 2  Fold 3  Fold 4  Fold 5  Mean    Std     \n",
      "RMSE (testset)    0.9610  0.9651  0.9642  0.9597  0.9624  0.9625  0.0020  \n",
      "MAE (testset)     0.7357  0.7391  0.7421  0.7331  0.7358  0.7372  0.0031  \n",
      "Fit time          0.26    0.30    0.34    0.30    0.33    0.30    0.03    \n",
      "Test time         1.79    1.85    2.03    1.86    1.91    1.89    0.08    \n",
      "Computing the msd similarity matrix...\n",
      "Done computing similarity matrix.\n",
      "Computing the msd similarity matrix...\n",
      "Done computing similarity matrix.\n",
      "Computing the msd similarity matrix...\n",
      "Done computing similarity matrix.\n",
      "Computing the msd similarity matrix...\n",
      "Done computing similarity matrix.\n",
      "Computing the msd similarity matrix...\n",
      "Done computing similarity matrix.\n",
      "Evaluating RMSE, MAE of algorithm KNNBasic on 5 split(s).\n",
      "\n",
      "                  Fold 1  Fold 2  Fold 3  Fold 4  Fold 5  Mean    Std     \n",
      "RMSE (testset)    0.9723  0.9656  0.9569  0.9512  0.9709  0.9634  0.0081  \n",
      "MAE (testset)     0.7454  0.7399  0.7336  0.7287  0.7394  0.7374  0.0057  \n",
      "Fit time          0.28    0.33    0.30    0.29    0.34    0.30    0.02    \n",
      "Test time         1.94    2.07    1.79    2.00    1.83    1.92    0.11    \n",
      "Computing the msd similarity matrix...\n",
      "Done computing similarity matrix.\n",
      "Computing the msd similarity matrix...\n",
      "Done computing similarity matrix.\n",
      "Computing the msd similarity matrix...\n",
      "Done computing similarity matrix.\n",
      "Computing the msd similarity matrix...\n",
      "Done computing similarity matrix.\n",
      "Computing the msd similarity matrix...\n",
      "Done computing similarity matrix.\n",
      "Evaluating RMSE, MAE of algorithm KNNBasic on 5 split(s).\n",
      "\n",
      "                  Fold 1  Fold 2  Fold 3  Fold 4  Fold 5  Mean    Std     \n",
      "RMSE (testset)    0.9512  0.9718  0.9596  0.9713  0.9593  0.9626  0.0078  \n",
      "MAE (testset)     0.7292  0.7422  0.7360  0.7431  0.7362  0.7373  0.0050  \n",
      "Fit time          0.28    0.30    0.31    0.29    0.30    0.30    0.01    \n",
      "Test time         1.85    2.10    2.09    1.98    1.82    1.97    0.12    \n",
      "Computing the msd similarity matrix...\n",
      "Done computing similarity matrix.\n",
      "Computing the msd similarity matrix...\n",
      "Done computing similarity matrix.\n",
      "Computing the msd similarity matrix...\n",
      "Done computing similarity matrix.\n",
      "Computing the msd similarity matrix...\n",
      "Done computing similarity matrix.\n",
      "Computing the msd similarity matrix...\n",
      "Done computing similarity matrix.\n",
      "Evaluating RMSE, MAE of algorithm KNNBasic on 5 split(s).\n",
      "\n",
      "                  Fold 1  Fold 2  Fold 3  Fold 4  Fold 5  Mean    Std     \n",
      "RMSE (testset)    0.9638  0.9678  0.9600  0.9605  0.9653  0.9635  0.0029  \n",
      "MAE (testset)     0.7395  0.7392  0.7399  0.7349  0.7378  0.7383  0.0018  \n",
      "Fit time          0.28    0.33    0.31    0.33    0.30    0.31    0.02    \n",
      "Test time         2.02    1.83    1.81    1.86    1.93    1.89    0.08    \n",
      "Computing the msd similarity matrix...\n",
      "Done computing similarity matrix.\n",
      "Computing the msd similarity matrix...\n",
      "Done computing similarity matrix.\n",
      "Computing the msd similarity matrix...\n",
      "Done computing similarity matrix.\n",
      "Computing the msd similarity matrix...\n",
      "Done computing similarity matrix.\n",
      "Computing the msd similarity matrix...\n",
      "Done computing similarity matrix.\n",
      "Evaluating RMSE, MAE of algorithm KNNBasic on 5 split(s).\n",
      "\n",
      "                  Fold 1  Fold 2  Fold 3  Fold 4  Fold 5  Mean    Std     \n",
      "RMSE (testset)    0.9617  0.9546  0.9651  0.9620  0.9611  0.9609  0.0034  \n",
      "MAE (testset)     0.7400  0.7305  0.7404  0.7379  0.7347  0.7367  0.0037  \n",
      "Fit time          0.26    0.28    0.33    0.28    0.32    0.29    0.02    \n",
      "Test time         2.09    1.95    1.98    1.92    2.07    2.00    0.07    \n",
      "Computing the msd similarity matrix...\n",
      "Done computing similarity matrix.\n",
      "Computing the msd similarity matrix...\n",
      "Done computing similarity matrix.\n",
      "Computing the msd similarity matrix...\n",
      "Done computing similarity matrix.\n",
      "Computing the msd similarity matrix...\n",
      "Done computing similarity matrix.\n",
      "Computing the msd similarity matrix...\n",
      "Done computing similarity matrix.\n",
      "Evaluating RMSE, MAE of algorithm KNNBasic on 5 split(s).\n",
      "\n",
      "                  Fold 1  Fold 2  Fold 3  Fold 4  Fold 5  Mean    Std     \n",
      "RMSE (testset)    0.9770  0.9675  0.9577  0.9572  0.9563  0.9632  0.0080  \n",
      "MAE (testset)     0.7460  0.7413  0.7357  0.7330  0.7357  0.7383  0.0047  \n",
      "Fit time          0.34    0.29    0.33    0.28    0.32    0.31    0.02    \n",
      "Test time         1.81    2.03    2.06    2.05    2.05    2.00    0.09    \n",
      "Computing the msd similarity matrix...\n",
      "Done computing similarity matrix.\n",
      "Computing the msd similarity matrix...\n",
      "Done computing similarity matrix.\n",
      "Computing the msd similarity matrix...\n",
      "Done computing similarity matrix.\n",
      "Computing the msd similarity matrix...\n",
      "Done computing similarity matrix.\n",
      "Computing the msd similarity matrix...\n",
      "Done computing similarity matrix.\n",
      "Evaluating RMSE, MAE of algorithm KNNBasic on 5 split(s).\n",
      "\n",
      "                  Fold 1  Fold 2  Fold 3  Fold 4  Fold 5  Mean    Std     \n",
      "RMSE (testset)    0.9634  0.9617  0.9494  0.9653  0.9632  0.9606  0.0057  \n",
      "MAE (testset)     0.7378  0.7368  0.7272  0.7392  0.7423  0.7367  0.0051  \n",
      "Fit time          0.27    0.37    0.30    0.30    0.34    0.31    0.04    \n",
      "Test time         1.91    2.17    1.85    2.07    2.02    2.00    0.11    \n"
     ]
    }
   ],
   "source": [
    "# User based Collaborative Filtering with different K\n",
    "for k in range(1,21):\n",
    "    svd = KNNBasic(k, sim_options = {'user_based': True })\n",
    "    cross_validate(svd, data, measures=['RMSE', 'MAE'], cv=5, verbose=True)"
   ]
  },
  {
   "cell_type": "code",
   "execution_count": 114,
   "metadata": {},
   "outputs": [],
   "source": [
    "x = range(1,21)\n",
    "rmse = [1.2101,1.0745,1.0250,0.9989,0.9858,0.9789,0.9716,0.9681,0.9662,0.9654,0.9640,0.9627,0.9625,0.9625,0.9634,0.9626,0.9635,0.9609,0.9632,0.9606]"
   ]
  },
  {
   "cell_type": "code",
   "execution_count": 120,
   "metadata": {},
   "outputs": [
    {
     "data": {
      "text/plain": [
       "<function matplotlib.pyplot.show(*args, **kw)>"
      ]
     },
     "execution_count": 120,
     "metadata": {},
     "output_type": "execute_result"
    },
    {
     "data": {
      "image/png": "[encoded data removed]",
      "text/plain": [
       "<Figure size 432x288 with 1 Axes>"
      ]
     },
     "metadata": {
      "needs_background": "light"
     },
     "output_type": "display_data"
    }
   ],
   "source": [
    "plt.plot(x, rmse, 'rs-', linewidth = 2)\n",
    "plt.title('User based Collaborative Filtering')\n",
    "plt.ylabel('RMSE')\n",
    "plt.xlabel('Value of K')\n",
    "plt.grid(axis=\"y\")\n",
    "plt.show"
   ]
  },
  {
   "cell_type": "code",
   "execution_count": 121,
   "metadata": {},
   "outputs": [
    {
     "name": "stdout",
     "output_type": "stream",
     "text": [
      "Computing the msd similarity matrix...\n",
      "Done computing similarity matrix.\n",
      "Computing the msd similarity matrix...\n",
      "Done computing similarity matrix.\n",
      "Computing the msd similarity matrix...\n",
      "Done computing similarity matrix.\n",
      "Computing the msd similarity matrix...\n",
      "Done computing similarity matrix.\n",
      "Computing the msd similarity matrix...\n",
      "Done computing similarity matrix.\n",
      "Evaluating RMSE, MAE of algorithm KNNBasic on 5 split(s).\n",
      "\n",
      "                  Fold 1  Fold 2  Fold 3  Fold 4  Fold 5  Mean    Std     \n",
      "RMSE (testset)    1.3116  1.3075  1.2958  1.2907  1.2992  1.3009  0.0076  \n",
      "MAE (testset)     0.9717  0.9682  0.9574  0.9513  0.9573  0.9612  0.0076  \n",
      "Fit time          5.93    5.67    5.43    5.64    5.58    5.65    0.16    \n",
      "Test time         7.60    7.79    7.77    7.60    7.45    7.64    0.13    \n",
      "Computing the msd similarity matrix...\n",
      "Done computing similarity matrix.\n",
      "Computing the msd similarity matrix...\n",
      "Done computing similarity matrix.\n",
      "Computing the msd similarity matrix...\n",
      "Done computing similarity matrix.\n",
      "Computing the msd similarity matrix...\n",
      "Done computing similarity matrix.\n",
      "Computing the msd similarity matrix...\n",
      "Done computing similarity matrix.\n",
      "Evaluating RMSE, MAE of algorithm KNNBasic on 5 split(s).\n",
      "\n",
      "                  Fold 1  Fold 2  Fold 3  Fold 4  Fold 5  Mean    Std     \n",
      "RMSE (testset)    1.1561  1.1423  1.1408  1.1332  1.1403  1.1425  0.0075  \n",
      "MAE (testset)     0.8840  0.8697  0.8713  0.8668  0.8688  0.8721  0.0061  \n",
      "Fit time          5.24    5.87    5.48    5.28    5.45    5.47    0.22    \n",
      "Test time         8.26    8.71    8.35    8.90    8.18    8.48    0.28    \n",
      "Computing the msd similarity matrix...\n",
      "Done computing similarity matrix.\n",
      "Computing the msd similarity matrix...\n",
      "Done computing similarity matrix.\n",
      "Computing the msd similarity matrix...\n",
      "Done computing similarity matrix.\n",
      "Computing the msd similarity matrix...\n",
      "Done computing similarity matrix.\n",
      "Computing the msd similarity matrix...\n",
      "Done computing similarity matrix.\n",
      "Evaluating RMSE, MAE of algorithm KNNBasic on 5 split(s).\n",
      "\n",
      "                  Fold 1  Fold 2  Fold 3  Fold 4  Fold 5  Mean    Std     \n",
      "RMSE (testset)    1.0723  1.0790  1.0795  1.0865  1.0779  1.0790  0.0045  \n",
      "MAE (testset)     0.8254  0.8307  0.8321  0.8338  0.8298  0.8304  0.0028  \n",
      "Fit time          5.22    5.53    5.48    5.43    5.39    5.41    0.11    \n",
      "Test time         8.29    8.75    8.79    8.77    8.61    8.64    0.19    \n",
      "Computing the msd similarity matrix...\n",
      "Done computing similarity matrix.\n",
      "Computing the msd similarity matrix...\n",
      "Done computing similarity matrix.\n",
      "Computing the msd similarity matrix...\n",
      "Done computing similarity matrix.\n",
      "Computing the msd similarity matrix...\n",
      "Done computing similarity matrix.\n",
      "Computing the msd similarity matrix...\n",
      "Done computing similarity matrix.\n",
      "Evaluating RMSE, MAE of algorithm KNNBasic on 5 split(s).\n",
      "\n",
      "                  Fold 1  Fold 2  Fold 3  Fold 4  Fold 5  Mean    Std     \n",
      "RMSE (testset)    1.0347  1.0386  1.0466  1.0523  1.0504  1.0445  0.0068  \n",
      "MAE (testset)     0.7997  0.8044  0.8090  0.8113  0.8101  0.8069  0.0043  \n",
      "Fit time          5.34    5.35    5.29    5.30    5.50    5.36    0.07    \n",
      "Test time         8.34    8.63    8.84    8.56    8.89    8.65    0.20    \n",
      "Computing the msd similarity matrix...\n",
      "Done computing similarity matrix.\n",
      "Computing the msd similarity matrix...\n",
      "Done computing similarity matrix.\n",
      "Computing the msd similarity matrix...\n",
      "Done computing similarity matrix.\n",
      "Computing the msd similarity matrix...\n",
      "Done computing similarity matrix.\n",
      "Computing the msd similarity matrix...\n",
      "Done computing similarity matrix.\n",
      "Evaluating RMSE, MAE of algorithm KNNBasic on 5 split(s).\n",
      "\n",
      "                  Fold 1  Fold 2  Fold 3  Fold 4  Fold 5  Mean    Std     \n",
      "RMSE (testset)    1.0239  1.0255  1.0186  1.0198  1.0269  1.0229  0.0032  \n",
      "MAE (testset)     0.7939  0.7928  0.7872  0.7885  0.7936  0.7912  0.0028  \n",
      "Fit time          5.66    5.75    5.40    5.47    5.34    5.53    0.16    \n",
      "Test time         9.94    9.38    8.66    8.64    8.87    9.10    0.50    \n",
      "Computing the msd similarity matrix...\n",
      "Done computing similarity matrix.\n",
      "Computing the msd similarity matrix...\n",
      "Done computing similarity matrix.\n",
      "Computing the msd similarity matrix...\n",
      "Done computing similarity matrix.\n",
      "Computing the msd similarity matrix...\n",
      "Done computing similarity matrix.\n",
      "Computing the msd similarity matrix...\n",
      "Done computing similarity matrix.\n",
      "Evaluating RMSE, MAE of algorithm KNNBasic on 5 split(s).\n",
      "\n",
      "                  Fold 1  Fold 2  Fold 3  Fold 4  Fold 5  Mean    Std     \n",
      "RMSE (testset)    1.0085  1.0054  1.0103  1.0128  1.0059  1.0086  0.0028  \n",
      "MAE (testset)     0.7819  0.7800  0.7781  0.7826  0.7780  0.7801  0.0019  \n",
      "Fit time          5.66    5.35    5.58    5.38    5.47    5.49    0.12    \n",
      "Test time         8.16    9.83    8.75    9.28    8.77    8.96    0.56    \n",
      "Computing the msd similarity matrix...\n",
      "Done computing similarity matrix.\n",
      "Computing the msd similarity matrix...\n",
      "Done computing similarity matrix.\n",
      "Computing the msd similarity matrix...\n",
      "Done computing similarity matrix.\n",
      "Computing the msd similarity matrix...\n",
      "Done computing similarity matrix.\n",
      "Computing the msd similarity matrix...\n",
      "Done computing similarity matrix.\n",
      "Evaluating RMSE, MAE of algorithm KNNBasic on 5 split(s).\n",
      "\n",
      "                  Fold 1  Fold 2  Fold 3  Fold 4  Fold 5  Mean    Std     \n",
      "RMSE (testset)    1.0031  0.9971  0.9953  1.0023  0.9962  0.9988  0.0032  \n",
      "MAE (testset)     0.7750  0.7711  0.7715  0.7735  0.7699  0.7722  0.0018  \n",
      "Fit time          5.28    5.64    4.95    5.16    4.42    5.09    0.40    \n",
      "Test time         9.31    9.72    7.99    6.51    6.03    7.91    1.46    \n",
      "Computing the msd similarity matrix...\n",
      "Done computing similarity matrix.\n",
      "Computing the msd similarity matrix...\n",
      "Done computing similarity matrix.\n",
      "Computing the msd similarity matrix...\n",
      "Done computing similarity matrix.\n",
      "Computing the msd similarity matrix...\n",
      "Done computing similarity matrix.\n",
      "Computing the msd similarity matrix...\n",
      "Done computing similarity matrix.\n",
      "Evaluating RMSE, MAE of algorithm KNNBasic on 5 split(s).\n",
      "\n",
      "                  Fold 1  Fold 2  Fold 3  Fold 4  Fold 5  Mean    Std     \n",
      "RMSE (testset)    0.9851  0.9831  0.9951  0.9904  0.9817  0.9871  0.0050  \n",
      "MAE (testset)     0.7588  0.7605  0.7697  0.7672  0.7626  0.7638  0.0041  \n",
      "Fit time          4.00    4.00    3.99    3.97    3.98    3.99    0.01    \n",
      "Test time         4.82    5.07    5.16    5.11    5.12    5.06    0.12    \n",
      "Computing the msd similarity matrix...\n",
      "Done computing similarity matrix.\n",
      "Computing the msd similarity matrix...\n",
      "Done computing similarity matrix.\n",
      "Computing the msd similarity matrix...\n",
      "Done computing similarity matrix.\n",
      "Computing the msd similarity matrix...\n",
      "Done computing similarity matrix.\n",
      "Computing the msd similarity matrix...\n",
      "Done computing similarity matrix.\n",
      "Evaluating RMSE, MAE of algorithm KNNBasic on 5 split(s).\n",
      "\n",
      "                  Fold 1  Fold 2  Fold 3  Fold 4  Fold 5  Mean    Std     \n",
      "RMSE (testset)    0.9810  0.9772  0.9882  0.9789  0.9773  0.9805  0.0041  \n",
      "MAE (testset)     0.7579  0.7590  0.7643  0.7571  0.7554  0.7587  0.0030  \n",
      "Fit time          3.91    3.97    3.99    3.97    3.98    3.96    0.03    \n",
      "Test time         4.91    5.14    5.23    5.07    5.53    5.18    0.21    \n",
      "Computing the msd similarity matrix...\n",
      "Done computing similarity matrix.\n",
      "Computing the msd similarity matrix...\n",
      "Done computing similarity matrix.\n",
      "Computing the msd similarity matrix...\n",
      "Done computing similarity matrix.\n",
      "Computing the msd similarity matrix...\n",
      "Done computing similarity matrix.\n",
      "Computing the msd similarity matrix...\n",
      "Done computing similarity matrix.\n",
      "Evaluating RMSE, MAE of algorithm KNNBasic on 5 split(s).\n",
      "\n",
      "                  Fold 1  Fold 2  Fold 3  Fold 4  Fold 5  Mean    Std     \n",
      "RMSE (testset)    0.9753  0.9780  0.9730  0.9798  0.9658  0.9744  0.0049  \n",
      "MAE (testset)     0.7515  0.7590  0.7512  0.7586  0.7472  0.7535  0.0046  \n",
      "Fit time          3.95    4.01    4.05    3.99    3.98    4.00    0.03    \n",
      "Test time         4.98    5.58    5.23    5.14    5.17    5.22    0.20    \n",
      "Computing the msd similarity matrix...\n",
      "Done computing similarity matrix.\n",
      "Computing the msd similarity matrix...\n",
      "Done computing similarity matrix.\n",
      "Computing the msd similarity matrix...\n",
      "Done computing similarity matrix.\n",
      "Computing the msd similarity matrix...\n",
      "Done computing similarity matrix.\n",
      "Computing the msd similarity matrix...\n",
      "Done computing similarity matrix.\n",
      "Evaluating RMSE, MAE of algorithm KNNBasic on 5 split(s).\n",
      "\n",
      "                  Fold 1  Fold 2  Fold 3  Fold 4  Fold 5  Mean    Std     \n",
      "RMSE (testset)    0.9710  0.9704  0.9653  0.9742  0.9660  0.9694  0.0033  \n",
      "MAE (testset)     0.7493  0.7523  0.7478  0.7500  0.7482  0.7495  0.0016  \n",
      "Fit time          3.95    3.99    3.96    3.98    4.00    3.98    0.02    \n",
      "Test time         5.00    5.13    5.54    5.17    5.53    5.27    0.22    \n",
      "Computing the msd similarity matrix...\n",
      "Done computing similarity matrix.\n",
      "Computing the msd similarity matrix...\n",
      "Done computing similarity matrix.\n",
      "Computing the msd similarity matrix...\n",
      "Done computing similarity matrix.\n",
      "Computing the msd similarity matrix...\n",
      "Done computing similarity matrix.\n",
      "Computing the msd similarity matrix...\n",
      "Done computing similarity matrix.\n",
      "Evaluating RMSE, MAE of algorithm KNNBasic on 5 split(s).\n",
      "\n",
      "                  Fold 1  Fold 2  Fold 3  Fold 4  Fold 5  Mean    Std     \n",
      "RMSE (testset)    0.9695  0.9782  0.9626  0.9564  0.9717  0.9677  0.0075  \n",
      "MAE (testset)     0.7497  0.7563  0.7443  0.7395  0.7526  0.7485  0.0060  \n",
      "Fit time          3.93    4.02    3.99    3.97    3.95    3.97    0.03    \n",
      "Test time         4.99    5.16    5.18    5.17    5.17    5.14    0.07    \n",
      "Computing the msd similarity matrix...\n",
      "Done computing similarity matrix.\n",
      "Computing the msd similarity matrix...\n",
      "Done computing similarity matrix.\n",
      "Computing the msd similarity matrix...\n",
      "Done computing similarity matrix.\n",
      "Computing the msd similarity matrix...\n",
      "Done computing similarity matrix.\n",
      "Computing the msd similarity matrix...\n",
      "Done computing similarity matrix.\n",
      "Evaluating RMSE, MAE of algorithm KNNBasic on 5 split(s).\n",
      "\n",
      "                  Fold 1  Fold 2  Fold 3  Fold 4  Fold 5  Mean    Std     \n",
      "RMSE (testset)    0.9657  0.9619  0.9612  0.9631  0.9648  0.9633  0.0017  \n",
      "MAE (testset)     0.7474  0.7438  0.7442  0.7444  0.7454  0.7450  0.0013  \n",
      "Fit time          3.92    3.95    3.99    3.99    5.40    4.25    0.58    \n",
      "Test time         5.23    5.33    5.50    5.74    7.80    5.92    0.96    \n",
      "Computing the msd similarity matrix...\n",
      "Done computing similarity matrix.\n",
      "Computing the msd similarity matrix...\n",
      "Done computing similarity matrix.\n",
      "Computing the msd similarity matrix...\n",
      "Done computing similarity matrix.\n",
      "Computing the msd similarity matrix...\n",
      "Done computing similarity matrix.\n",
      "Computing the msd similarity matrix...\n",
      "Done computing similarity matrix.\n",
      "Evaluating RMSE, MAE of algorithm KNNBasic on 5 split(s).\n",
      "\n",
      "                  Fold 1  Fold 2  Fold 3  Fold 4  Fold 5  Mean    Std     \n",
      "RMSE (testset)    0.9657  0.9552  0.9678  0.9622  0.9579  0.9618  0.0047  \n",
      "MAE (testset)     0.7467  0.7377  0.7503  0.7396  0.7402  0.7429  0.0048  \n",
      "Fit time          4.23    4.17    4.13    3.95    4.04    4.11    0.10    \n",
      "Test time         6.22    6.24    5.48    5.44    5.49    5.78    0.37    \n",
      "Computing the msd similarity matrix...\n",
      "Done computing similarity matrix.\n",
      "Computing the msd similarity matrix...\n",
      "Done computing similarity matrix.\n",
      "Computing the msd similarity matrix...\n",
      "Done computing similarity matrix.\n",
      "Computing the msd similarity matrix...\n",
      "Done computing similarity matrix.\n",
      "Computing the msd similarity matrix...\n",
      "Done computing similarity matrix.\n",
      "Evaluating RMSE, MAE of algorithm KNNBasic on 5 split(s).\n",
      "\n",
      "                  Fold 1  Fold 2  Fold 3  Fold 4  Fold 5  Mean    Std     \n",
      "RMSE (testset)    0.9560  0.9598  0.9548  0.9514  0.9533  0.9550  0.0028  \n",
      "MAE (testset)     0.7380  0.7395  0.7359  0.7375  0.7398  0.7381  0.0014  \n",
      "Fit time          3.91    3.99    3.99    3.98    4.00    3.98    0.03    \n",
      "Test time         5.18    5.71    5.38    5.28    5.26    5.36    0.18    \n",
      "Computing the msd similarity matrix...\n",
      "Done computing similarity matrix.\n",
      "Computing the msd similarity matrix...\n",
      "Done computing similarity matrix.\n",
      "Computing the msd similarity matrix...\n",
      "Done computing similarity matrix.\n",
      "Computing the msd similarity matrix...\n",
      "Done computing similarity matrix.\n",
      "Computing the msd similarity matrix...\n",
      "Done computing similarity matrix.\n",
      "Evaluating RMSE, MAE of algorithm KNNBasic on 5 split(s).\n",
      "\n",
      "                  Fold 1  Fold 2  Fold 3  Fold 4  Fold 5  Mean    Std     \n",
      "RMSE (testset)    0.9525  0.9423  0.9570  0.9667  0.9464  0.9530  0.0085  \n",
      "MAE (testset)     0.7367  0.7281  0.7377  0.7458  0.7316  0.7360  0.0060  \n",
      "Fit time          3.92    3.97    4.02    3.97    4.01    3.97    0.04    \n",
      "Test time         5.51    5.62    5.42    5.67    5.54    5.55    0.09    \n",
      "Computing the msd similarity matrix...\n",
      "Done computing similarity matrix.\n",
      "Computing the msd similarity matrix...\n",
      "Done computing similarity matrix.\n",
      "Computing the msd similarity matrix...\n",
      "Done computing similarity matrix.\n",
      "Computing the msd similarity matrix...\n",
      "Done computing similarity matrix.\n",
      "Computing the msd similarity matrix...\n",
      "Done computing similarity matrix.\n",
      "Evaluating RMSE, MAE of algorithm KNNBasic on 5 split(s).\n",
      "\n",
      "                  Fold 1  Fold 2  Fold 3  Fold 4  Fold 5  Mean    Std     \n",
      "RMSE (testset)    0.9518  0.9553  0.9479  0.9565  0.9499  0.9523  0.0032  \n",
      "MAE (testset)     0.7376  0.7379  0.7331  0.7384  0.7303  0.7355  0.0032  \n",
      "Fit time          3.95    4.00    3.99    3.98    3.96    3.98    0.02    \n",
      "Test time         5.13    5.69    5.55    5.60    5.42    5.48    0.19    \n",
      "Computing the msd similarity matrix...\n",
      "Done computing similarity matrix.\n",
      "Computing the msd similarity matrix...\n",
      "Done computing similarity matrix.\n",
      "Computing the msd similarity matrix...\n",
      "Done computing similarity matrix.\n",
      "Computing the msd similarity matrix...\n",
      "Done computing similarity matrix.\n",
      "Computing the msd similarity matrix...\n",
      "Done computing similarity matrix.\n",
      "Evaluating RMSE, MAE of algorithm KNNBasic on 5 split(s).\n",
      "\n",
      "                  Fold 1  Fold 2  Fold 3  Fold 4  Fold 5  Mean    Std     \n",
      "RMSE (testset)    0.9543  0.9565  0.9481  0.9488  0.9501  0.9516  0.0033  \n",
      "MAE (testset)     0.7359  0.7409  0.7332  0.7339  0.7322  0.7352  0.0031  \n",
      "Fit time          3.94    3.98    3.99    3.96    3.99    3.97    0.02    \n",
      "Test time         5.36    5.63    5.42    5.55    5.58    5.51    0.10    \n",
      "Computing the msd similarity matrix...\n",
      "Done computing similarity matrix.\n",
      "Computing the msd similarity matrix...\n",
      "Done computing similarity matrix.\n",
      "Computing the msd similarity matrix...\n",
      "Done computing similarity matrix.\n",
      "Computing the msd similarity matrix...\n",
      "Done computing similarity matrix.\n",
      "Computing the msd similarity matrix...\n",
      "Done computing similarity matrix.\n",
      "Evaluating RMSE, MAE of algorithm KNNBasic on 5 split(s).\n",
      "\n",
      "                  Fold 1  Fold 2  Fold 3  Fold 4  Fold 5  Mean    Std     \n",
      "RMSE (testset)    0.9474  0.9407  0.9532  0.9503  0.9507  0.9485  0.0043  \n",
      "MAE (testset)     0.7343  0.7291  0.7331  0.7346  0.7333  0.7329  0.0020  \n",
      "Fit time          3.91    3.95    4.18    4.07    4.03    4.03    0.10    \n",
      "Test time         5.67    5.81    6.33    5.78    5.86    5.89    0.23    \n",
      "Computing the msd similarity matrix...\n",
      "Done computing similarity matrix.\n",
      "Computing the msd similarity matrix...\n",
      "Done computing similarity matrix.\n",
      "Computing the msd similarity matrix...\n",
      "Done computing similarity matrix.\n",
      "Computing the msd similarity matrix...\n",
      "Done computing similarity matrix.\n",
      "Computing the msd similarity matrix...\n",
      "Done computing similarity matrix.\n",
      "Evaluating RMSE, MAE of algorithm KNNBasic on 5 split(s).\n",
      "\n",
      "                  Fold 1  Fold 2  Fold 3  Fold 4  Fold 5  Mean    Std     \n",
      "RMSE (testset)    0.9487  0.9534  0.9518  0.9504  0.9361  0.9481  0.0062  \n",
      "MAE (testset)     0.7295  0.7363  0.7347  0.7362  0.7247  0.7323  0.0045  \n",
      "Fit time          3.99    4.04    4.04    4.02    4.04    4.03    0.02    \n",
      "Test time         5.60    5.86    6.03    6.07    5.56    5.83    0.21    \n"
     ]
    }
   ],
   "source": [
    "# Item based Collaborative Filtering with different K\n",
    "for k in range(1,21): \n",
    "    svd = KNNBasic(k, sim_options = {'user_based': False})\n",
    "    cross_validate(svd, data, measures=['RMSE', 'MAE'], cv=5, verbose=True)"
   ]
  },
  {
   "cell_type": "code",
   "execution_count": 122,
   "metadata": {},
   "outputs": [],
   "source": [
    "x = range(1,21)\n",
    "rmse = [1.3009,1.1425,1.0790,01.0445,1.0229,1.0086,0.9988,0.9871,0.9805,0.9744,0.9694,0.9677,0.9633,0.9618,0.9550,0.9530,0.9523,0.9516,0.9485,0.9481]"
   ]
  },
  {
   "cell_type": "code",
   "execution_count": 123,
   "metadata": {},
   "outputs": [
    {
     "data": {
      "text/plain": [
       "<function matplotlib.pyplot.show(*args, **kw)>"
      ]
     },
     "execution_count": 123,
     "metadata": {},
     "output_type": "execute_result"
    },
    {
     "data": {
      "image/png": "[encoded data removed]",
      "text/plain": [
       "<Figure size 432x288 with 1 Axes>"
      ]
     },
     "metadata": {
      "needs_background": "light"
     },
     "output_type": "display_data"
    }
   ],
   "source": [
    "plt.plot(x, rmse, 'bs-', linewidth = 2)\n",
    "plt.title('Item based Collaborative Filtering')\n",
    "plt.ylabel('RMSE')\n",
    "plt.xlabel('Value of K')\n",
    "plt.grid(axis=\"y\")\n",
    "plt.show"
   ]
  },
  {
   "cell_type": "code",
   "execution_count": null,
   "metadata": {},
   "outputs": [],
   "source": []
  }
 ],
 "metadata": {
  "kernelspec": {
   "display_name": "Python 3",
   "language": "python",
   "name": "python3"
  },
  "language_info": {
   "codemirror_mode": {
    "name": "ipython",
    "version": 3
   },
   "file_extension": ".py",
   "mimetype": "text/x-python",
   "name": "python",
   "nbconvert_exporter": "python",
   "pygments_lexer": "ipython3",
   "version": "3.8.3"
  }
 },
 "nbformat": 4,
 "nbformat_minor": 4
}
